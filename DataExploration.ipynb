{
 "cells": [
  {
   "cell_type": "code",
   "execution_count": 1,
   "id": "0bc9a070",
   "metadata": {},
   "outputs": [],
   "source": [
    "import pandas as pd\n",
    "from conceptualDesign.conceptualDesign import conceptualDesign\n",
    "from misc.openData import openData\n",
    "from misc.materials import load_materials\n",
    "import matplotlib.pyplot as plt"
   ]
  },
  {
   "cell_type": "code",
   "execution_count": null,
   "id": "9a0e0c48",
   "metadata": {},
   "outputs": [
    {
     "name": "stdout",
     "output_type": "stream",
     "text": [
      "    cargoMass  cargoVolume  passengers  passengerMass  payloadMass  altitude  \\\n",
      "0           0            0         500            100        50000      5000   \n",
      "1           0            0         500            100        50000      5000   \n",
      "2           0            0         500            100        50000      5000   \n",
      "3           0            0         500            100        50000      5000   \n",
      "4           0            0         500            100        50000      5000   \n",
      "..        ...          ...         ...            ...          ...       ...   \n",
      "95          0            0         500            100        50000      5000   \n",
      "96          0            0         500            100        50000      5000   \n",
      "97          0            0         500            100        50000      5000   \n",
      "98          0            0         500            100        50000      5000   \n",
      "99          0            0         500            100        50000      5000   \n",
      "\n",
      "    velocity  flightRange   shape  compressionRatio  ...  fuselageC_D  \\\n",
      "0         75      1000000  bullet                 5  ...        0.295   \n",
      "1         75      1000000  bullet                 5  ...        0.295   \n",
      "2         75      1000000  bullet                 5  ...        0.295   \n",
      "3         75      1000000  bullet                 5  ...        0.295   \n",
      "4         75      1000000  bullet                 5  ...        0.295   \n",
      "..       ...          ...     ...               ...  ...          ...   \n",
      "95        75      1000000  bullet                 5  ...        0.295   \n",
      "96        75      1000000  bullet                 5  ...        0.295   \n",
      "97        75      1000000  bullet                 5  ...        0.295   \n",
      "98        75      1000000  bullet                 5  ...        0.295   \n",
      "99        75      1000000  bullet                 5  ...        0.295   \n",
      "\n",
      "    balloonC_D  wingC_L_design  fuselageArea  balloonArea     wingArea  \\\n",
      "0        0.295             0.8     39.896974     0.000000   614.903796   \n",
      "1        0.295             0.8     39.896974     4.659651   877.453269   \n",
      "2        0.295             0.8     39.896974     5.600609  1081.632367   \n",
      "3        0.295             0.8     39.896974     6.216948  1230.257507   \n",
      "4        0.295             0.8     39.896974     6.645354  1343.574686   \n",
      "..         ...             ...           ...          ...          ...   \n",
      "95       0.295             0.8     39.896974     8.361524  1877.409359   \n",
      "96       0.295             0.8     39.896974     8.361524  1877.409548   \n",
      "97       0.295             0.8     39.896974     8.361525  1877.409713   \n",
      "98       0.295             0.8     39.896974     8.361525  1877.409856   \n",
      "99       0.295             0.8     39.896974     8.361525  1877.409981   \n",
      "\n",
      "   requiredEnergy      totalDrag   balloonLift  balloonVolume  \n",
      "0    1.152838e+11   69170.280192      0.000000       0.000000  \n",
      "1    1.519117e+11   91147.003960   8852.081678    2844.996257  \n",
      "2    1.776659e+11  106599.541103  11664.557691    3748.906096  \n",
      "3    1.963430e+11  117805.791101  13642.099499    4384.474005  \n",
      "4    2.105408e+11  126324.490140  15076.221784    4845.390734  \n",
      "..            ...            ...           ...            ...  \n",
      "95   2.771191e+11  166271.440645  21278.621776    6838.798093  \n",
      "96   2.771191e+11  166271.454725  21278.623844    6838.798758  \n",
      "97   2.771191e+11  166271.466996  21278.625646    6838.799337  \n",
      "98   2.771191e+11  166271.477691  21278.627216    6838.799842  \n",
      "99   2.771191e+11  166271.487012  21278.628585    6838.800281  \n",
      "\n",
      "[100 rows x 43 columns]\n"
     ]
    }
   ],
   "source": [
    "material_data: dict = load_materials()\n",
    "\n",
    "parameters = openData(\"design1\")\n",
    "params, df = conceptualDesign(parameters, material_data)"
   ]
  },
  {
   "cell_type": "code",
   "execution_count": null,
   "id": "08b3170f",
   "metadata": {},
   "outputs": [],
   "source": [
    "df[[\"fuelMass\", \"balloonVolume\", \"requiredEnergy\", \"totalMass\"]]"
   ]
  },
  {
   "cell_type": "code",
   "execution_count": null,
   "id": "6f53ddd0",
   "metadata": {},
   "outputs": [],
   "source": [
    "plt.plot(df.index, df.totalMass, df.fuelMass)"
   ]
  },
  {
   "cell_type": "code",
   "execution_count": null,
   "id": "7213cb55",
   "metadata": {},
   "outputs": [],
   "source": []
  }
 ],
 "metadata": {
  "kernelspec": {
   "display_name": "Python 3 (ipykernel)",
   "language": "python",
   "name": "python3"
  },
  "language_info": {
   "codemirror_mode": {
    "name": "ipython",
    "version": 3
   },
   "file_extension": ".py",
   "mimetype": "text/x-python",
   "name": "python",
   "nbconvert_exporter": "python",
   "pygments_lexer": "ipython3",
   "version": "3.10.0"
  }
 },
 "nbformat": 4,
 "nbformat_minor": 5
}
