{
 "cells": [
  {
   "cell_type": "code",
   "execution_count": 1,
   "id": "0bc9a070",
   "metadata": {},
   "outputs": [],
   "source": [
    "import pandas as pd\n",
    "from conceptualDesign.conceptualDesign import conceptualDesign\n",
    "from misc.openData import openData\n",
    "from misc.materials import load_materials\n",
    "import matplotlib.pyplot as plt"
   ]
  },
  {
   "cell_type": "code",
   "execution_count": 2,
   "id": "9a0e0c48",
   "metadata": {},
   "outputs": [],
   "source": [
    "material_data: dict = load_materials()\n",
    "\n",
    "parameters = openData(\"design1\")\n",
    "params, df = conceptualDesign(parameters, material_data)"
   ]
  },
  {
   "cell_type": "code",
   "execution_count": 3,
   "id": "08b3170f",
   "metadata": {},
   "outputs": [
    {
     "data": {
      "text/html": [
       "<div>\n",
       "<style scoped>\n",
       "    .dataframe tbody tr th:only-of-type {\n",
       "        vertical-align: middle;\n",
       "    }\n",
       "\n",
       "    .dataframe tbody tr th {\n",
       "        vertical-align: top;\n",
       "    }\n",
       "\n",
       "    .dataframe thead th {\n",
       "        text-align: right;\n",
       "    }\n",
       "</style>\n",
       "<table border=\"1\" class=\"dataframe\">\n",
       "  <thead>\n",
       "    <tr style=\"text-align: right;\">\n",
       "      <th></th>\n",
       "      <th>fuelMass</th>\n",
       "      <th>balloonVolume</th>\n",
       "      <th>requiredEnergy</th>\n",
       "      <th>totalMass</th>\n",
       "    </tr>\n",
       "  </thead>\n",
       "  <tbody>\n",
       "    <tr>\n",
       "      <th>0</th>\n",
       "      <td>47909.128010</td>\n",
       "      <td>0.000000</td>\n",
       "      <td>5.795088e+12</td>\n",
       "      <td>1.499328e+05</td>\n",
       "    </tr>\n",
       "    <tr>\n",
       "      <th>1</th>\n",
       "      <td>55480.130706</td>\n",
       "      <td>818.382389</td>\n",
       "      <td>6.710877e+12</td>\n",
       "      <td>4.954557e+05</td>\n",
       "    </tr>\n",
       "    <tr>\n",
       "      <th>2</th>\n",
       "      <td>74174.101971</td>\n",
       "      <td>947.710046</td>\n",
       "      <td>8.972099e+12</td>\n",
       "      <td>6.205510e+05</td>\n",
       "    </tr>\n",
       "    <tr>\n",
       "      <th>3</th>\n",
       "      <td>82201.306725</td>\n",
       "      <td>1267.039941</td>\n",
       "      <td>9.943070e+12</td>\n",
       "      <td>7.821334e+05</td>\n",
       "    </tr>\n",
       "    <tr>\n",
       "      <th>4</th>\n",
       "      <td>91278.025918</td>\n",
       "      <td>1404.160429</td>\n",
       "      <td>1.104099e+13</td>\n",
       "      <td>8.792796e+05</td>\n",
       "    </tr>\n",
       "    <tr>\n",
       "      <th>...</th>\n",
       "      <td>...</td>\n",
       "      <td>...</td>\n",
       "      <td>...</td>\n",
       "      <td>...</td>\n",
       "    </tr>\n",
       "    <tr>\n",
       "      <th>95</th>\n",
       "      <td>121230.087389</td>\n",
       "      <td>2070.848972</td>\n",
       "      <td>1.466399e+13</td>\n",
       "      <td>1.298313e+06</td>\n",
       "    </tr>\n",
       "    <tr>\n",
       "      <th>96</th>\n",
       "      <td>121230.087401</td>\n",
       "      <td>2070.848972</td>\n",
       "      <td>1.466399e+13</td>\n",
       "      <td>1.298313e+06</td>\n",
       "    </tr>\n",
       "    <tr>\n",
       "      <th>97</th>\n",
       "      <td>121230.087410</td>\n",
       "      <td>2070.848972</td>\n",
       "      <td>1.466399e+13</td>\n",
       "      <td>1.298313e+06</td>\n",
       "    </tr>\n",
       "    <tr>\n",
       "      <th>98</th>\n",
       "      <td>121230.087418</td>\n",
       "      <td>2070.848972</td>\n",
       "      <td>1.466399e+13</td>\n",
       "      <td>1.298313e+06</td>\n",
       "    </tr>\n",
       "    <tr>\n",
       "      <th>99</th>\n",
       "      <td>121230.087424</td>\n",
       "      <td>2070.848973</td>\n",
       "      <td>1.466399e+13</td>\n",
       "      <td>1.298313e+06</td>\n",
       "    </tr>\n",
       "  </tbody>\n",
       "</table>\n",
       "<p>100 rows × 4 columns</p>\n",
       "</div>"
      ],
      "text/plain": [
       "         fuelMass  balloonVolume  requiredEnergy     totalMass\n",
       "0    47909.128010       0.000000    5.795088e+12  1.499328e+05\n",
       "1    55480.130706     818.382389    6.710877e+12  4.954557e+05\n",
       "2    74174.101971     947.710046    8.972099e+12  6.205510e+05\n",
       "3    82201.306725    1267.039941    9.943070e+12  7.821334e+05\n",
       "4    91278.025918    1404.160429    1.104099e+13  8.792796e+05\n",
       "..            ...            ...             ...           ...\n",
       "95  121230.087389    2070.848972    1.466399e+13  1.298313e+06\n",
       "96  121230.087401    2070.848972    1.466399e+13  1.298313e+06\n",
       "97  121230.087410    2070.848972    1.466399e+13  1.298313e+06\n",
       "98  121230.087418    2070.848972    1.466399e+13  1.298313e+06\n",
       "99  121230.087424    2070.848973    1.466399e+13  1.298313e+06\n",
       "\n",
       "[100 rows x 4 columns]"
      ]
     },
     "execution_count": 3,
     "metadata": {},
     "output_type": "execute_result"
    }
   ],
   "source": [
    "df[[\"fuelMass\", \"balloonVolume\", \"requiredEnergy\", \"totalMass\"]]"
   ]
  },
  {
   "cell_type": "code",
   "execution_count": 4,
   "id": "6f53ddd0",
   "metadata": {},
   "outputs": [
    {
     "data": {
      "text/plain": [
       "[<matplotlib.lines.Line2D at 0x120ba0940>,\n",
       " <matplotlib.lines.Line2D at 0x120ba0b80>]"
      ]
     },
     "execution_count": 4,
     "metadata": {},
     "output_type": "execute_result"
    },
    {
     "data": {
      "image/png": "[encoded data removed]",
      "text/plain": [
       "<Figure size 432x288 with 1 Axes>"
      ]
     },
     "metadata": {
      "needs_background": "light"
     },
     "output_type": "display_data"
    }
   ],
   "source": [
    "plt.plot(df.index, df.totalMass, df.fuelMass)"
   ]
  },
  {
   "cell_type": "code",
   "execution_count": null,
   "id": "7213cb55",
   "metadata": {},
   "outputs": [],
   "source": []
  }
 ],
 "metadata": {
  "kernelspec": {
   "display_name": "Python 3 (ipykernel)",
   "language": "python",
   "name": "python3"
  },
  "language_info": {
   "codemirror_mode": {
    "name": "ipython",
    "version": 3
   },
   "file_extension": ".py",
   "mimetype": "text/x-python",
   "name": "python",
   "nbconvert_exporter": "python",
   "pygments_lexer": "ipython3",
   "version": "3.10.0"
  }
 },
 "nbformat": 4,
 "nbformat_minor": 5
}
